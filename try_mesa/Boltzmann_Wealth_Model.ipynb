{
  "cells": [
    {
      "cell_type": "markdown",
      "metadata": {
        "id": "aSkWk4QNfX2c"
      },
      "source": [
        "# Introductory Tutorial\n",
        "\n",
        "### The Boltzmann Wealth Model"
      ]
    },
    {
      "cell_type": "markdown",
      "metadata": {
        "id": "LXexTbnKfX2e"
      },
      "source": [
        "**Important:**\n",
        "- If you are just exploring Mesa and want the fastest way to execute the code we recommend executing this tutorial online in a Colab notebook. [![Colab](https://colab.research.google.com/assets/colab-badge.svg)](https://colab.research.google.com/github/projectmesa/mesa/blob/main/docs/tutorials/intro_tutorial.ipynb)\n",
        "- If you have installed mesa and are running locally, please ensure that your [Mesa version](https://pypi.org/project/Mesa/) is up-to-date in order to run this tutorial.\n",
        "\n",
        "## Tutorial Description\n",
        "\n",
        "[Mesa](https://github.com/projectmesa/mesa) is a Python framework for [agent-based modeling](https://en.wikipedia.org/wiki/Agent-based_model). This tutorial will assist you in getting started. Working through the tutorial will help you discover the core features of Mesa.  Through the tutorial, you are walked through creating a starter-level model. Functionality is added progressively as the process unfolds. Should anyone find any errors, bugs, have a suggestion, or just are looking for clarification, [let us know](https://github.com/projectmesa/mesa/issues)!\n",
        "\n",
        "The premise of this tutorial is to create a starter-level model representing agents exchanging money. This exchange of money affects wealth.\n",
        "\n",
        "Next, *space* is added to allow agents to move based on the change in wealth as time progresses.\n",
        "\n",
        "Two of Mesa's analytic tools: the *data collector* and *batch runner* are then used to examine the dynamics of this simple model.\n",
        "\n",
        "### More Tutorials:\n",
        "\n",
        "Visualization: There is a separate [visualization tutorial](https://mesa.readthedocs.io/en/stable/tutorials/visualization_tutorial.html) that will take users through building a visualization for this model (aka Boltzmann Wealth Model)."
      ]
    },
    {
      "cell_type": "markdown",
      "metadata": {
        "id": "RWcQ8fc9fX2f"
      },
      "source": [
        "## Model Description\n",
        "\n",
        "This is a starter-level simulated agent-based economy. In an agent-based economy, the behavior of an individual economic agent, such as a consumer or producer, is studied in a market environment.\n",
        "This model is drawn from the field econophysics, specifically a paper prepared by Drăgulescu et al. for additional information on the modeling assumptions used in this model. [Drăgulescu, 2002].\n",
        "\n",
        "The assumption that govern this model are:\n",
        "\n",
        "1. There are some number of agents.\n",
        "2. All agents begin with 1 unit of money.\n",
        "3. At every step of the model, an agent gives 1 unit of money (if they\n",
        "   have it) to some other agent.\n",
        "\n",
        "Even as a starter-level model the yielded results are both interesting and unexpected to individuals unfamiliar\n",
        "with it the specific topic. As such, this model is a good starting point to examine Mesa's core features."
      ]
    },
    {
      "cell_type": "markdown",
      "metadata": {
        "id": "x9kGQ7U5fX2f"
      },
      "source": [
        "### Tutorial Setup\n",
        "\n",
        "Create and activate a [virtual environment](http://docs.python-guide.org/en/latest/dev/virtualenvs/). *Python version 3.10 or higher is required*.\n",
        "\n",
        "Install Mesa:\n",
        "\n",
        "```bash\n",
        "pip install --upgrade mesa\n",
        "```\n",
        "\n",
        "Install Jupyter Notebook (optional):\n",
        "\n",
        "```bash\n",
        "pip install jupyter\n",
        "```\n",
        "\n",
        "Install [Seaborn](https://seaborn.pydata.org/) (which is used for data visualization):\n",
        "\n",
        "```bash\n",
        "pip install seaborn\n",
        "```\n",
        "\n",
        "\n",
        "**If running in Google Colab run the below cell to install Mesa.** (This will also work in a locally installed version of Jupyter.)"
      ]
    },
    {
      "cell_type": "code",
      "execution_count": null,
      "metadata": {
        "id": "r1POpnaOfX2g"
      },
      "outputs": [],
      "source": [
        "# SKIP THIS CELL unless running in colab\n",
        "\n",
        "%pip install --quiet mesa\n",
        "# The exclamation points tell jupyter to do the command via the command line"
      ]
    },
    {
      "cell_type": "markdown",
      "metadata": {
        "id": "pQLSj9f6fX2g"
      },
      "source": [
        "## Building the Sample Model\n",
        "\n",
        "After Mesa is installed a model can be built. A jupyter notebook is recommended for this tutorial, this allows for small segments of codes to be examined one at a time. As an option this can be created using python script files.\n",
        "\n",
        "**Good Practice:** Place a model in its own folder/directory. This is not specifically required for the starter_model, but as other models become more complicated and expand multiple python scripts, documentation, discussions and notebooks may be added.\n",
        "\n",
        "### Create New Folder/Directory\n",
        "\n",
        "- Using operating system commands create a new folder/directory named 'starter_model'.\n",
        "\n",
        "- Change into the new folder/directory.\n",
        "\n",
        "\n",
        "### Creating Model With Jupyter Notebook\n",
        "\n",
        "Write the model interactively in [Jupyter Notebook](http://jupyter.org/) cells.\n",
        "\n",
        "Start Jupyter Notebook:\n",
        "\n",
        "```bash\n",
        "jupyter notebook\n",
        "```\n",
        "\n",
        "Create a new Notebook named `money_model.ipynb` (or whatever you want to call it).\n",
        "\n",
        "### Creating Model With Script File (IDE, Text Editor, Colab, etc.)\n",
        "\n",
        "Create a new file called `money_model.py` (or whatever you want to call it)\n",
        "\n",
        "*Code will be added as the tutorial progresses.*\n"
      ]
    },
    {
      "cell_type": "markdown",
      "metadata": {
        "id": "eci0kpYifX2g"
      },
      "source": [
        "### Import Dependencies\n",
        "This includes importing of dependencies needed for the tutorial."
      ]
    },
    {
      "cell_type": "code",
      "execution_count": null,
      "metadata": {
        "id": "fOm1c9BafX2h"
      },
      "outputs": [],
      "source": [
        "import mesa\n",
        "\n",
        "# Data visualization tools.\n",
        "import seaborn as sns\n",
        "\n",
        "# Has multi-dimensional arrays and matrices. Has a large collection of\n",
        "# mathematical functions to operate on these arrays.\n",
        "import numpy as np\n",
        "\n",
        "# Data manipulation and analysis.\n",
        "import pandas as pd"
      ]
    },
    {
      "cell_type": "markdown",
      "metadata": {
        "id": "3Rd-__P4fX2h"
      },
      "source": [
        "### Create Agent\n",
        "\n",
        "First create the agent. As the tutorial progresses, more functionality will be added to the agent.\n",
        "\n",
        "**Background:** Agents are the individual entities that act in the model. It is a good modeling practice to make certain each Agent can be uniquely identified.\n",
        "\n",
        "**Model-specific information:** Agents are the individuals that exchange money, in this case the amount of money an individual agent has is represented as wealth. Additionally, agents each have a unique identifier.\n",
        "\n",
        "**Code implementation:** This is done by creating a new class (or object) that extends `mesa.Agent` creating a subclass of  the `Agent` class from mesa. The new class is named `MoneyAgent`. The technical details about the agent object can be found in the [mesa repo](https://github.com/projectmesa/mesa/blob/main/mesa/agent.py).\n",
        "\n",
        "\n",
        "The `MoneyAgent` class is created with the following code:\n"
      ]
    },
    {
      "cell_type": "code",
      "execution_count": null,
      "metadata": {
        "id": "5iRIc7nGfX2h"
      },
      "outputs": [],
      "source": [
        "class MoneyAgent(mesa.Agent):\n",
        "    \"\"\"An agent with fixed initial wealth.\"\"\"\n",
        "\n",
        "    def __init__(self, unique_id, model):\n",
        "        # Pass the parameters to the parent class.\n",
        "        super().__init__(unique_id, model)\n",
        "\n",
        "        # Create the agent's variable and set the initial values.\n",
        "        self.wealth = 1"
      ]
    },
    {
      "cell_type": "markdown",
      "metadata": {
        "id": "aP37oKbdfX2h"
      },
      "source": [
        "### Create Model\n",
        "\n",
        "Next, create the model. Again, as the tutorial progresses, more functionality will be added to the model.\n",
        "\n",
        "**Background:** The model can be visualized as a grid containing all the agents. The model creates, holds and manages all the agents on the grid. The model evolves in discrete time steps.\n",
        "\n",
        "**Model-specific information:** When a model is created the number of agents within the model is specified. The model then creates the agents and places them on the grid. The model also contains a scheduler which controls the order in which agents are activated. The scheduler is also responsible for advancing the model by one step. The model also contains a data collector which collects data from the model. These topics will be covered in more detail later in the tutorial.\n",
        "\n",
        "**Code implementation:** This is done by creating a new class (or object) that extends `mesa.Model` and calls `super().__init__()`, creating a subclass of the `Model` class from mesa. The new class is named `MoneyModel`.  The technical details about the agent object can be found in the [mesa repo](https://github.com/projectmesa/mesa/blob/main/mesa/model.py).\n",
        "\n",
        "The `MoneyModel` class is created with the following code:"
      ]
    },
    {
      "cell_type": "code",
      "execution_count": null,
      "metadata": {
        "id": "jmbReW7LfX2h"
      },
      "outputs": [],
      "source": [
        "class MoneyModel(mesa.Model):\n",
        "    \"\"\"A model with some number of agents.\"\"\"\n",
        "\n",
        "    def __init__(self, N):\n",
        "        super().__init__()\n",
        "        self.num_agents = N\n",
        "        # Create agents\n",
        "        for i in range(self.num_agents):\n",
        "            a = MoneyAgent(i, self)"
      ]
    },
    {
      "cell_type": "markdown",
      "metadata": {
        "id": "FZmRp6UWfX2h"
      },
      "source": [
        "### Adding the Scheduler\n",
        "Now the model will be modified to add a scheduler.\n",
        "\n",
        "**Background:** The scheduler controls the order in which agents are activated, causing the agent to take their defined action. The scheduler is also responsible for advancing the model by one step. A step is the smallest unit of time in the model, and is often referred to as a tick. The scheduler can be configured to activate agents in different orders. This can be important as the order in which agents are activated can impact the results of the model [Comer2014]. At each step of the model, one or more of the agents -- usually all of them -- are activated and take their own step, changing internally and/or interacting with one another or the environment.\n",
        "\n",
        "**Model-specific information:** A new class is named `RandomActivationByAgent` is created which extends `mesa.time.RandomActivation` creating a subclass of  the `RandomActivation` class from Mesa. This class activates all the agents once per step, in random order. Every agent is expected to have a ``step`` method. The step method is the action the agent takes when it is activated by the model schedule. We add an agent to the schedule using the `add` method; when we call the schedule's `step` method, the model shuffles the order of the agents, then activates and executes each agent's ```step``` method. The scheduler is then added to the model.\n",
        "\n",
        "**Code implementation:** The technical details about the timer object can be found in the [mesa repo](https://github.com/projectmesa/mesa/blob/main/mesa/time.py). Mesa offers a few different built-in scheduler classes, with a common interface. That makes it easy to change the activation regime a given model uses, and see whether it changes the model behavior. The details pertaining to the scheduler interface can be located in the same [mesa repo](https://github.com/projectmesa/mesa/blob/main/mesa/time.py).\n",
        "\n",
        "With that in mind, the `MoneyAgent` code is modified below to visually show when a new agent is created. The MoneyModel code is modified by adding the RandomActivation method to the model. with the scheduler added looks like this:"
      ]
    },
    {
      "cell_type": "code",
      "execution_count": null,
      "metadata": {
        "id": "r2AuiyVNfX2i"
      },
      "outputs": [],
      "source": [
        "class MoneyAgent(mesa.Agent):\n",
        "    \"\"\"An agent with fixed initial wealth.\"\"\"\n",
        "\n",
        "    def __init__(self, unique_id, model):\n",
        "        # Pass the parameters to the parent class.\n",
        "        super().__init__(unique_id, model)\n",
        "\n",
        "        # Create the agent's attribute and set the initial values.\n",
        "        self.wealth = 1\n",
        "\n",
        "    def step(self):\n",
        "        # The agent's step will go here.\n",
        "        # For demonstration purposes we will print the agent's unique_id\n",
        "        print(f\"Hi, I am an agent, you can call me {str(self.unique_id)}.\")\n",
        "\n",
        "\n",
        "class MoneyModel(mesa.Model):\n",
        "    \"\"\"A model with some number of agents.\"\"\"\n",
        "\n",
        "    def __init__(self, N):\n",
        "        super().__init__()\n",
        "        self.num_agents = N\n",
        "        # Create scheduler and assign it to the model\n",
        "        self.schedule = mesa.time.RandomActivation(self)\n",
        "\n",
        "        # Create agents\n",
        "        for i in range(self.num_agents):\n",
        "            a = MoneyAgent(i, self)\n",
        "            # Add the agent to the scheduler\n",
        "            self.schedule.add(a)\n",
        "\n",
        "    def step(self):\n",
        "        \"\"\"Advance the model by one step.\"\"\"\n",
        "\n",
        "        # The model's step will go here for now this will call the step method of each agent and print the agent's unique_id\n",
        "        self.schedule.step()"
      ]
    },
    {
      "cell_type": "markdown",
      "metadata": {
        "id": "Qsrn5EYhfX2i"
      },
      "source": [
        "### Running the Model\n",
        "A basic model has now been created. The model can be run by creating a model object and calling the step method. The model will run for one step and print the unique_id of each agent. You may run the model for multiple steps by calling the step method multiple times.\n",
        "\n",
        "Note: If you are using `.py` (script) files instead of `.ipynb` (Jupyter), the common convention is\n",
        "to have a `run.py` in the same directory as your model code. You then (1) import the ``MoneyModel`` class,\n",
        "(2) create a model object and (3) run it for a few steps. As shown below:\n",
        "\n",
        "```python\n",
        "from money_model import MoneyModel\n",
        "\n",
        "starter_model = MoneyModel(10)\n",
        "starter_model.step()\n",
        "```\n",
        "Create the model object, and run it for one step:"
      ]
    },
    {
      "cell_type": "code",
      "execution_count": null,
      "metadata": {
        "id": "Ob3X-KlhfX2i"
      },
      "outputs": [],
      "source": [
        "starter_model = MoneyModel(10)\n",
        "starter_model.step()"
      ]
    },
    {
      "cell_type": "code",
      "execution_count": null,
      "metadata": {
        "id": "L8g0JLhsfX2i"
      },
      "outputs": [],
      "source": [
        "# Run this step overnight and see what happens! Notice the order of the agents changes each time.\n",
        "starter_model.step()"
      ]
    },
    {
      "cell_type": "markdown",
      "metadata": {
        "id": "RpNXrVO3fX2i"
      },
      "source": [
        "#### Exercise\n",
        "Modifying the code below to have every agent print out its `wealth` when it is activated."
      ]
    },
    {
      "cell_type": "code",
      "execution_count": null,
      "metadata": {
        "id": "I8OtSczXfX2i"
      },
      "outputs": [],
      "source": [
        "class MoneyAgent(mesa.Agent):\n",
        "    \"\"\"An agent with fixed initial wealth.\"\"\"\n",
        "\n",
        "    def __init__(self, unique_id, model):\n",
        "        # Pass the parameters to the parent class.\n",
        "        super().__init__(unique_id, model)\n",
        "\n",
        "        # Create the agent's variable and set the initial values.\n",
        "        self.wealth = 1\n",
        "\n",
        "    def step(self):\n",
        "        # The agent's step will go here.\n",
        "        # FIXME: Need to print the agent's wealth\n",
        "        print(f\"Hi, I am an agent and I am broke!\")"
      ]
    },
    {
      "cell_type": "markdown",
      "metadata": {
        "id": "8hX_DerifX2i"
      },
      "source": [
        "Create a model for 12 Agents, and run it for a few steps to see the output."
      ]
    },
    {
      "cell_type": "code",
      "execution_count": null,
      "metadata": {
        "id": "H5JghOPBfX2i"
      },
      "outputs": [],
      "source": [
        "# Fixme: Create the model object, and run it"
      ]
    },
    {
      "cell_type": "markdown",
      "metadata": {
        "id": "8G0SlnnLfX2i"
      },
      "source": [
        "### Agent Step\n",
        "\n",
        "Returning back to the MoneyAgent the actual step process is now going to be created.\n",
        "\n",
        "**Background:** This is where the agent's behavior as it relates to each step or tick of the model is defined.\n",
        "\n",
        "**Model-specific information:** In this case, the agent will check its wealth, and if it has money, give one unit of it away to another random agent.\n",
        "\n",
        "**Code implementation:** The agent's step method is called by the scheduler during each step of the model. To allow the agent to choose another agent at random, we use the `model.random` random-number generator. This works just like Python's `random` module, but with a fixed seed set when the model is instantiated, that can be used to replicate a specific model run later."
      ]
    },
    {
      "cell_type": "markdown",
      "metadata": {
        "id": "ZOEoyF-wfX2i"
      },
      "source": [
        "To pick an agent at random, we need a list of all agents. Notice that there isn't such a list explicitly in the model. The scheduler, however, does have an internal list of all the agents it is scheduled to activate.\n",
        "\n",
        "With that in mind, we rewrite the agent `step` method as shown below:"
      ]
    },
    {
      "cell_type": "code",
      "execution_count": null,
      "metadata": {
        "id": "hn9nodx0fX2i"
      },
      "outputs": [],
      "source": [
        "import copy\n",
        "\n",
        "\n",
        "class MoneyAgent(mesa.Agent):\n",
        "    \"\"\"An agent with fixed initial wealth.\"\"\"\n",
        "\n",
        "    def __init__(self, unique_id, model):\n",
        "        # Pass the parameters to the parent class.\n",
        "        super().__init__(unique_id, model)\n",
        "\n",
        "        # Create the agent's variable and set the initial values.\n",
        "        self.wealth = 1\n",
        "\n",
        "    def step(self):\n",
        "        # Verify agent has some wealth\n",
        "        if self.wealth > 0:\n",
        "            other_agent = self.random.choice(self.model.schedule.agents)\n",
        "            if other_agent is not None:\n",
        "                other_agent.wealth += 1\n",
        "                self.wealth -= 1"
      ]
    },
    {
      "cell_type": "markdown",
      "metadata": {
        "id": "BrkrlHuLfX2i"
      },
      "source": [
        "### Running your first model\n",
        "\n",
        "With that last piece in hand, it's time for the first rudimentary run of the model.\n",
        "\n",
        "If you've written the code in its own script file (`money_model.py` or a different name) you can now modify your ``run.py`` or even launch a Jupyter Notebook. You then just follow the same three steps of (1) import your model class ``MoneyModel``, (2) create the model object and (3) run it for a few steps. If you wrote the code in one Notebook then step 1, importing, is not necessary.\n",
        "\n",
        "```python\n",
        "from money_model import MoneyModel\n",
        "```\n",
        "\n",
        "Now let's create a model with 10 agents, and run it for 10 steps."
      ]
    },
    {
      "cell_type": "code",
      "execution_count": null,
      "metadata": {
        "id": "FAsaOmPafX2i"
      },
      "outputs": [],
      "source": [
        "model = MoneyModel(10)\n",
        "for i in range(10):\n",
        "    model.step()"
      ]
    },
    {
      "cell_type": "markdown",
      "metadata": {
        "id": "fNoDmPeLfX2i"
      },
      "source": [
        "Next, we need to get some data out of the model. Specifically, we want to see the distribution of the agent's wealth. We can get the wealth values with list comprehension, and then use seaborn (or another graphics library) to visualize the data in a histogram."
      ]
    },
    {
      "cell_type": "code",
      "execution_count": null,
      "metadata": {
        "id": "JYfqVgFhfX2i"
      },
      "outputs": [],
      "source": [
        "agent_wealth = [a.wealth for a in model.schedule.agents]\n",
        "# Create a histogram with seaborn\n",
        "g = sns.histplot(agent_wealth, discrete=True)\n",
        "g.set(\n",
        "    title=\"Wealth distribution\", xlabel=\"Wealth\", ylabel=\"Number of agents\"\n",
        ");  # The semicolon is just to avoid printing the object representation"
      ]
    },
    {
      "cell_type": "markdown",
      "metadata": {
        "id": "xBXXan3jfX2j"
      },
      "source": [
        "You'll should see something like the distribution above. Yours will almost certainly look at least slightly different, since each run of the model is random, after all."
      ]
    },
    {
      "cell_type": "markdown",
      "metadata": {
        "id": "PX4MC46wfX2j"
      },
      "source": [
        "To get a better idea of how a model behaves, we can create multiple model runs and see the distribution that emerges from all of them. We can do this with a nested for loop:"
      ]
    },
    {
      "cell_type": "code",
      "execution_count": null,
      "metadata": {
        "id": "EV5_MRx6fX2j"
      },
      "outputs": [],
      "source": [
        "all_wealth = []\n",
        "# This runs the model 100 times, each model executing 10 steps.\n",
        "for j in range(100):\n",
        "    # Run the model\n",
        "    model = MoneyModel(10)\n",
        "    for i in range(10):\n",
        "        model.step()\n",
        "\n",
        "    # Store the results\n",
        "    for agent in model.schedule.agents:\n",
        "        all_wealth.append(agent.wealth)\n",
        "\n",
        "# Use seaborn\n",
        "g = sns.histplot(all_wealth, discrete=True)\n",
        "g.set(title=\"Wealth distribution\", xlabel=\"Wealth\", ylabel=\"Number of agents\");"
      ]
    },
    {
      "cell_type": "markdown",
      "metadata": {
        "id": "ffDc7eiWfX2j"
      },
      "source": [
        "This runs 100 instantiations of the model, and runs each for 10 steps. (Notice that we set the histogram bins to be integers, since agents can only have whole numbers of wealth). This distribution looks a lot smoother. By running the model 100 times, we smooth out some of the 'noise' of randomness, and get to the model's overall expected behavior.\n",
        "\n",
        "This outcome might be surprising. Despite the fact that all agents, on average, give and receive one unit of money every step, the model converges to a state where most agents have a small amount of money and a small number have a lot of money."
      ]
    },
    {
      "cell_type": "markdown",
      "metadata": {
        "id": "xNs-hpULfX2j"
      },
      "source": [
        "### Adding space\n",
        "\n",
        "Many ABMs have a spatial element, with agents moving around and interacting with nearby neighbors. Mesa currently supports two overall kinds of spaces: grid, and continuous. Grids are divided into cells, and agents can only be on a particular cell, like pieces on a chess board. Continuous space, in contrast, allows agents to have any arbitrary position. Both grids and continuous spaces are frequently [toroidal](https://en.wikipedia.org/wiki/Toroidal_graph), meaning that the edges wrap around, with cells on the right edge connected to those on the left edge, and the top to the bottom. This prevents some cells having fewer neighbors than others, or agents being able to go off the edge of the environment.\n",
        "\n",
        "Let's add a simple spatial element to our model by putting our agents on a grid and make them walk around at random. Instead of giving their unit of money to any random agent, they'll give it to an agent on the same cell.\n",
        "\n",
        "Mesa has two main types of grids: `SingleGrid` and `MultiGrid`*. `SingleGrid` enforces at most one agent per cell; `MultiGrid` allows multiple agents to be in the same cell. Since we want agents to be able to share a cell, we use `MultiGrid`.\n",
        "\n",
        "*However there are more types of space to include `HexGrid`, `NetworkGrid`, and the previously mentioned `ContinuousSpace`. Similar to `mesa.time` context is retained with `mesa.space.[enter class]`. You can inspect the different classes at [mesa.space](https://github.com/projectmesa/mesa/blob/main/mesa/space.py)."
      ]
    },
    {
      "cell_type": "markdown",
      "metadata": {
        "id": "6-BMMykKfX2j"
      },
      "source": [
        "We instantiate a grid with width and height parameters, and a boolean as to whether the grid is toroidal. Let's make width and height model parameters, in addition to the number of agents, and have the grid always be toroidal. We can place agents on a grid with the grid's `place_agent` method, which takes an agent and an (x, y) tuple of the coordinates to place the agent."
      ]
    },
    {
      "cell_type": "code",
      "execution_count": null,
      "metadata": {
        "id": "feXHvSfCfX2j"
      },
      "outputs": [],
      "source": [
        "class MoneyModel(mesa.Model):\n",
        "    \"\"\"A model with some number of agents.\"\"\"\n",
        "\n",
        "    def __init__(self, N, width, height):\n",
        "        super().__init__()\n",
        "        self.num_agents = N\n",
        "        self.grid = mesa.space.MultiGrid(width, height, True)\n",
        "        self.schedule = mesa.time.RandomActivation(self)\n",
        "\n",
        "        # Create agents\n",
        "        for i in range(self.num_agents):\n",
        "            a = MoneyAgent(i, self)\n",
        "            self.schedule.add(a)\n",
        "\n",
        "            # Add the agent to a random grid cell\n",
        "            x = self.random.randrange(self.grid.width)\n",
        "            y = self.random.randrange(self.grid.height)\n",
        "            self.grid.place_agent(a, (x, y))"
      ]
    },
    {
      "cell_type": "markdown",
      "metadata": {
        "id": "1RBwvKapfX2j"
      },
      "source": [
        "Under the hood, each agent's position is stored in two ways: the agent is contained in the grid in the cell it is currently in, and the agent has a `pos` variable with an (x, y) coordinate tuple. The `place_agent` method adds the coordinate to the agent automatically.\n",
        "\n",
        "Now we need to add to the agents' behaviors, letting them move around and only give money to other agents in the same cell.\n",
        "\n",
        "First let's handle movement, and have the agents move to a neighboring cell. The grid object provides a `move_agent` method, which like you'd imagine, moves an agent to a given cell. That still leaves us to get the possible neighboring cells to move to. There are a couple ways to do this. One is to use the current coordinates, and loop over all coordinates +/- 1 away from it. For example:\n",
        "\n",
        "```python\n",
        "neighbors = []\n",
        "x, y = self.pos\n",
        "for dx in [-1, 0, 1]:\n",
        "    for dy in [-1, 0, 1]:\n",
        "        neighbors.append((x+dx, y+dy))\n",
        "```\n",
        "\n",
        "But there's an even simpler way, using the grid's built-in `get_neighborhood` method, which returns all the neighbors of a given cell. This method can get two types of cell neighborhoods: [Moore](https://en.wikipedia.org/wiki/Moore_neighborhood) (includes all 8 surrounding squares), and [Von Neumann](https://en.wikipedia.org/wiki/Von_Neumann_neighborhood)(only up/down/left/right). It also needs an argument as to whether to include the center cell itself as one of the neighbors.\n",
        "\n",
        "With that in mind, the agent's `move` method looks like this:\n",
        "\n",
        "```python\n",
        "class MoneyAgent(mesa.Agent):\n",
        "   #...\n",
        "    def move(self):\n",
        "        possible_steps = self.model.grid.get_neighborhood(\n",
        "            self.pos,\n",
        "            moore=True,\n",
        "            include_center=False)\n",
        "        new_position = self.random.choice(possible_steps)\n",
        "        self.model.grid.move_agent(self, new_position)\n",
        "```\n",
        "\n",
        "Next, we need to get all the other agents present in a cell, and give one of them some money. We can get the contents of one or more cells using the grid's `get_cell_list_contents` method, or by accessing a cell directly. The method accepts a list of cell coordinate tuples, or a single tuple if we only care about one cell.\n",
        "\n",
        "```python\n",
        "class MoneyAgent(mesa.Agent):\n",
        "    #...\n",
        "    def give_money(self):\n",
        "        cellmates = self.model.grid.get_cell_list_contents([self.pos])\n",
        "        if len(cellmates) > 1:\n",
        "            other = self.random.choice(cellmates)\n",
        "            other.wealth += 1\n",
        "            self.wealth -= 1\n",
        "```\n",
        "\n",
        "And with those two methods, the agent's ``step`` method becomes:\n",
        "\n",
        "```python\n",
        "class MoneyAgent(mesa.Agent):\n",
        "    # ...\n",
        "    def step(self):\n",
        "        self.move()\n",
        "        if self.wealth > 0:\n",
        "            self.give_money()\n",
        "```\n",
        "\n",
        "Now, putting that all together should look like this:"
      ]
    },
    {
      "cell_type": "code",
      "execution_count": null,
      "metadata": {
        "id": "_jH6_h5EfX2j"
      },
      "outputs": [],
      "source": [
        "class MoneyAgent(mesa.Agent):\n",
        "    \"\"\"An agent with fixed initial wealth.\"\"\"\n",
        "\n",
        "    def __init__(self, unique_id, model):\n",
        "        super().__init__(unique_id, model)\n",
        "        self.wealth = 1\n",
        "\n",
        "    def move(self):\n",
        "        possible_steps = self.model.grid.get_neighborhood(\n",
        "            self.pos, moore=True, include_center=False\n",
        "        )\n",
        "        new_position = self.random.choice(possible_steps)\n",
        "        self.model.grid.move_agent(self, new_position)\n",
        "\n",
        "    def give_money(self):\n",
        "        cellmates = self.model.grid.get_cell_list_contents([self.pos])\n",
        "        if len(cellmates) > 1:\n",
        "            other_agent = self.random.choice(cellmates)\n",
        "            other_agent.wealth += 1\n",
        "            self.wealth -= 1\n",
        "\n",
        "    def step(self):\n",
        "        self.move()\n",
        "        if self.wealth > 0:\n",
        "            self.give_money()\n",
        "\n",
        "\n",
        "class MoneyModel(mesa.Model):\n",
        "    \"\"\"A model with some number of agents.\"\"\"\n",
        "\n",
        "    def __init__(self, N, width, height):\n",
        "        super().__init__()\n",
        "        self.num_agents = N\n",
        "        self.grid = mesa.space.MultiGrid(width, height, True)\n",
        "        self.schedule = mesa.time.RandomActivation(self)\n",
        "        # Create agents\n",
        "        for i in range(self.num_agents):\n",
        "            a = MoneyAgent(i, self)\n",
        "            self.schedule.add(a)\n",
        "            # Add the agent to a random grid cell\n",
        "            x = self.random.randrange(self.grid.width)\n",
        "            y = self.random.randrange(self.grid.height)\n",
        "            self.grid.place_agent(a, (x, y))\n",
        "\n",
        "    def step(self):\n",
        "        self.schedule.step()"
      ]
    },
    {
      "cell_type": "markdown",
      "metadata": {
        "id": "eXf1hABLfX2j"
      },
      "source": [
        "Let's create a model with 100 agents on a 10x10 grid, and run it for 20 steps."
      ]
    },
    {
      "cell_type": "code",
      "execution_count": null,
      "metadata": {
        "id": "okSsoNFqfX2j"
      },
      "outputs": [],
      "source": [
        "model = MoneyModel(100, 10, 10)\n",
        "for i in range(20):\n",
        "    model.step()"
      ]
    },
    {
      "cell_type": "markdown",
      "metadata": {
        "id": "UuPN11sLfX2n"
      },
      "source": [
        "Now let's use seaborn and numpy to visualize the number of agents residing in each cell. To do that, we create a numpy array of the same size as the grid, filled with zeros. Then we use the grid object's `coord_iter()` feature, which lets us loop over every cell in the grid, giving us each cell's positions and contents in turn."
      ]
    },
    {
      "cell_type": "code",
      "execution_count": null,
      "metadata": {
        "id": "fAmkHHrafX2n"
      },
      "outputs": [],
      "source": [
        "agent_counts = np.zeros((model.grid.width, model.grid.height))\n",
        "for cell_content, (x, y) in model.grid.coord_iter():\n",
        "    agent_count = len(cell_content)\n",
        "    agent_counts[x][y] = agent_count\n",
        "# Plot using seaborn, with a size of 5x5\n",
        "g = sns.heatmap(agent_counts, cmap=\"viridis\", annot=True, cbar=False, square=True)\n",
        "g.figure.set_size_inches(4, 4)\n",
        "g.set(title=\"Number of agents on each cell of the grid\");"
      ]
    },
    {
      "cell_type": "markdown",
      "metadata": {
        "id": "UYAPTz7VfX2n"
      },
      "source": [
        "### Collecting Data\n",
        "\n",
        "So far, at the end of every model run, we've had to go and write our own code to get the data out of the model. This has two problems: it isn't very efficient, and it only gives us end results. If we wanted to know the wealth of each agent at each step, we'd have to add that to the loop of executing steps, and figure out some way to store the data.\n",
        "\n",
        "Since one of the main goals of agent-based modeling is generating data for analysis, Mesa provides a class which can handle data collection and storage for us and make it easier to analyze.\n",
        "\n",
        "The data collector stores three categories of data: model-level variables, agent-level variables, and tables (which are a catch-all for everything else). Model- and agent-level variables are added to the data collector along with a function for collecting them. Model-level collection functions take a model object as an input, while agent-level collection functions take an agent object as an input. Both then return a value computed from the model or each agent at their current state. When the data collector’s `collect` method is called, with a model object as its argument, it applies each model-level collection function to the model, and stores the results in a dictionary, associating the current value with the current step of the model. Similarly, the method applies each agent-level collection function to each agent currently in the schedule, associating the resulting value with the step of the model, and the agent’s `unique_id`.\n",
        "\n",
        "Let's add a DataCollector to the model with [`mesa.DataCollector`](https://github.com/projectmesa/mesa/blob/main/mesa/datacollection.py), and collect two variables. At the agent level, we want to collect every agent's wealth at every step. At the model level, let's measure the model's [Gini Coefficient](https://en.wikipedia.org/wiki/Gini_coefficient), a measure of wealth inequality."
      ]
    },
    {
      "cell_type": "code",
      "execution_count": null,
      "metadata": {
        "id": "UdUHEoKKfX2n"
      },
      "outputs": [],
      "source": [
        "def compute_gini(model):\n",
        "    agent_wealths = [agent.wealth for agent in model.schedule.agents]\n",
        "    x = sorted(agent_wealths)\n",
        "    N = model.num_agents\n",
        "    B = sum(xi * (N - i) for i, xi in enumerate(x)) / (N * sum(x))\n",
        "    return 1 + (1 / N) - 2 * B\n",
        "\n",
        "\n",
        "class MoneyAgent(mesa.Agent):\n",
        "    \"\"\"An agent with fixed initial wealth.\"\"\"\n",
        "\n",
        "    def __init__(self, unique_id, model):\n",
        "        super().__init__(unique_id, model)\n",
        "        self.wealth = 1\n",
        "\n",
        "    def move(self):\n",
        "        possible_steps = self.model.grid.get_neighborhood(\n",
        "            self.pos, moore=True, include_center=False\n",
        "        )\n",
        "        new_position = self.random.choice(possible_steps)\n",
        "        self.model.grid.move_agent(self, new_position)\n",
        "\n",
        "    def give_money(self):\n",
        "        cellmates = self.model.grid.get_cell_list_contents([self.pos])\n",
        "        cellmates.pop(\n",
        "            cellmates.index(self)\n",
        "        )  # Ensure agent is not giving money to itself\n",
        "        if len(cellmates) > 1:\n",
        "            other = self.random.choice(cellmates)\n",
        "            other.wealth += 1\n",
        "            self.wealth -= 1\n",
        "            if other == self:\n",
        "                print(\"I JUST GAVE MONEY TO MYSELF HEHEHE!\")\n",
        "\n",
        "    def step(self):\n",
        "        self.move()\n",
        "        if self.wealth > 0:\n",
        "            self.give_money()\n",
        "\n",
        "\n",
        "class MoneyModel(mesa.Model):\n",
        "    \"\"\"A model with some number of agents.\"\"\"\n",
        "\n",
        "    def __init__(self, N, width, height):\n",
        "        super().__init__()\n",
        "        self.num_agents = N\n",
        "        self.grid = mesa.space.MultiGrid(width, height, True)\n",
        "        self.schedule = mesa.time.RandomActivation(self)\n",
        "\n",
        "        # Create agents\n",
        "        for i in range(self.num_agents):\n",
        "            a = MoneyAgent(i, self)\n",
        "            self.schedule.add(a)\n",
        "            # Add the agent to a random grid cell\n",
        "            x = self.random.randrange(self.grid.width)\n",
        "            y = self.random.randrange(self.grid.height)\n",
        "            self.grid.place_agent(a, (x, y))\n",
        "\n",
        "        self.datacollector = mesa.DataCollector(\n",
        "            model_reporters={\"Gini\": compute_gini}, agent_reporters={\"Wealth\": \"wealth\"}\n",
        "        )\n",
        "\n",
        "    def step(self):\n",
        "        self.datacollector.collect(self)\n",
        "        self.schedule.step()"
      ]
    },
    {
      "cell_type": "markdown",
      "metadata": {
        "id": "z8d3mqSifX2n"
      },
      "source": [
        "At every step of the model, the datacollector will collect and store the model-level current Gini coefficient, as well as each agent's wealth, associating each with the current step.\n",
        "\n",
        "We run the model just as we did above. Now is when an interactive session, especially via a Notebook, comes in handy: the DataCollector can export the data its collected as a pandas* DataFrame, for easy interactive analysis.\n",
        "\n",
        "*If you are new to Python, please be aware that pandas is already installed as a dependency of Mesa and that [pandas](https://pandas.pydata.org/docs/) is a \"fast, powerful, flexible and easy to use open source data analysis and manipulation tool\". pandas is great resource to help analyze the data collected in your models."
      ]
    },
    {
      "cell_type": "code",
      "execution_count": null,
      "metadata": {
        "id": "alTDX35cfX2n"
      },
      "outputs": [],
      "source": [
        "model = MoneyModel(100, 10, 10)\n",
        "for i in range(100):\n",
        "    model.step()"
      ]
    },
    {
      "cell_type": "markdown",
      "metadata": {
        "id": "U_N3tBpXfX2n"
      },
      "source": [
        "To get the series of Gini coefficients as a pandas DataFrame:"
      ]
    },
    {
      "cell_type": "code",
      "execution_count": null,
      "metadata": {
        "id": "ExusrfVbfX2n"
      },
      "outputs": [],
      "source": [
        "gini = model.datacollector.get_model_vars_dataframe()\n",
        "# Plot the Gini coefficient over time\n",
        "g = sns.lineplot(data=gini)\n",
        "g.set(title=\"Gini Coefficient over Time\", ylabel=\"Gini Coefficient\");"
      ]
    },
    {
      "cell_type": "markdown",
      "metadata": {
        "id": "0aoxaAJ-fX2o"
      },
      "source": [
        "Similarly, we can get the agent-wealth data:"
      ]
    },
    {
      "cell_type": "code",
      "execution_count": null,
      "metadata": {
        "id": "DdXumLvRfX2o"
      },
      "outputs": [],
      "source": [
        "agent_wealth = model.datacollector.get_agent_vars_dataframe()\n",
        "agent_wealth.head()"
      ]
    },
    {
      "cell_type": "markdown",
      "metadata": {
        "id": "TsNQSSYjfX2o"
      },
      "source": [
        "You'll see that the DataFrame's index is pairings of model step and agent ID. This is because the data collector stores the data in a dictionary, with the step number as the key, and a dictionary of agent ID and variable value pairs as the value. The data collector then converts this dictionary into a DataFrame, which is why the index is a pair of (model step, agent ID). You can analyze it the way you would any other DataFrame. For example, to get a histogram of agent wealth at the model's end:"
      ]
    },
    {
      "cell_type": "code",
      "execution_count": null,
      "metadata": {
        "id": "z86K6O__fX2o"
      },
      "outputs": [],
      "source": [
        "last_step = agent_wealth.index.get_level_values(\"Step\").max()\n",
        "end_wealth = agent_wealth.xs(last_step, level=\"Step\")[\"Wealth\"]\n",
        "# Create a histogram of wealth at the last step\n",
        "g = sns.histplot(end_wealth, discrete=True)\n",
        "g.set(\n",
        "    title=\"Distribution of wealth at the end of simulation\",\n",
        "    xlabel=\"Wealth\",\n",
        "    ylabel=\"Number of agents\",\n",
        ");"
      ]
    },
    {
      "cell_type": "markdown",
      "metadata": {
        "id": "VPPHX-RufX2o"
      },
      "source": [
        "Or to plot the wealth of a given agent (in this example, agent 14):"
      ]
    },
    {
      "cell_type": "code",
      "execution_count": null,
      "metadata": {
        "id": "2_ydMY18fX2o"
      },
      "outputs": [],
      "source": [
        "# Get the wealth of agent 14 over time\n",
        "one_agent_wealth = agent_wealth.xs(14, level=\"AgentID\")\n",
        "\n",
        "# Plot the wealth of agent 14 over time\n",
        "g = sns.lineplot(data=one_agent_wealth, x=\"Step\", y=\"Wealth\")\n",
        "g.set(title=\"Wealth of agent 14 over time\");"
      ]
    },
    {
      "cell_type": "markdown",
      "metadata": {
        "id": "iPs3f2PTfX2o"
      },
      "source": [
        "You can also plot a reporter of multiple agents over time."
      ]
    },
    {
      "cell_type": "code",
      "execution_count": null,
      "metadata": {
        "id": "07HlF_7YfX2o"
      },
      "outputs": [],
      "source": [
        "agent_list = [3, 14, 25]\n",
        "\n",
        "# Get the wealth of multiple agents over time\n",
        "multiple_agents_wealth = agent_wealth[\n",
        "    agent_wealth.index.get_level_values(\"AgentID\").isin(agent_list)\n",
        "]\n",
        "# Plot the wealth of multiple agents over time\n",
        "g = sns.lineplot(data=multiple_agents_wealth, x=\"Step\", y=\"Wealth\", hue=\"AgentID\")\n",
        "g.set(title=\"Wealth of agents 3, 14 and 25 over time\");"
      ]
    },
    {
      "cell_type": "markdown",
      "metadata": {
        "id": "C6IU_gckfX2o"
      },
      "source": [
        "We can also plot the average of all agents, with a 95% confidence interval for that average."
      ]
    },
    {
      "cell_type": "code",
      "execution_count": null,
      "metadata": {
        "id": "PLhakM7MfX2o"
      },
      "outputs": [],
      "source": [
        "# Transform the data to a long format\n",
        "agent_wealth_long = agent_wealth.T.unstack().reset_index()\n",
        "agent_wealth_long.columns = [\"Step\", \"AgentID\", \"Variable\", \"Value\"]\n",
        "agent_wealth_long.head(3)\n",
        "\n",
        "# Plot the average wealth over time\n",
        "g = sns.lineplot(data=agent_wealth_long, x=\"Step\", y=\"Value\", errorbar=(\"ci\", 95))\n",
        "g.set(title=\"Average wealth over time\")"
      ]
    },
    {
      "cell_type": "markdown",
      "metadata": {
        "id": "XB3mc4MCfX2o"
      },
      "source": [
        "Which is exactly 1, as expected in this model, since each agent starts with one wealth unit, and each agent gives one wealth unit to another agent at each step."
      ]
    },
    {
      "cell_type": "markdown",
      "metadata": {
        "id": "WQmScPt9fX2o"
      },
      "source": [
        "You can also use pandas to export the data to a CSV (comma separated value), which can be opened by any common spreadsheet application or opened by pandas.\n",
        "\n",
        "If you do not specify a file path, the file will be saved in the local directory. After you run the code below you will see two files appear (*model_data.csv* and *agent_data.csv*)"
      ]
    },
    {
      "cell_type": "code",
      "execution_count": null,
      "metadata": {
        "id": "a4HIsaEDfX2o"
      },
      "outputs": [],
      "source": [
        "# save the model data (stored in the pandas gini object) to CSV\n",
        "gini.to_csv(\"model_data.csv\")\n",
        "\n",
        "# save the agent data (stored in the pandas agent_wealth object) to CSV\n",
        "agent_wealth.to_csv(\"agent_data.csv\")"
      ]
    },
    {
      "cell_type": "markdown",
      "metadata": {
        "id": "ILIS_pjVfX2o"
      },
      "source": [
        "### Batch Run\n",
        "\n",
        "Like we mentioned above, you usually won't run a model only once, but multiple times, with fixed parameters to find the overall distributions the model generates, and with varying parameters to analyze how they drive the model's outputs and behaviors. Instead of needing to write nested for-loops for each model, Mesa provides a [`batch_run`](https://github.com/projectmesa/mesa/blob/main/mesa/batchrunner.py) function which automates it for you.\n",
        "\n",
        "The batch runner also requires an additional variable `self.running` for the MoneyModel class. This variable enables conditional shut off of the model once a condition is met. In this example it will be set as True indefinitely."
      ]
    },
    {
      "cell_type": "markdown",
      "metadata": {
        "id": "FdL6LXMRfX2o"
      },
      "source": [
        "#### Additional agent reporter\n",
        "To make the results a little bit more interesting, we will also calculate the number of consecutive time steps an agent hasn't given any wealth as an agent reporter.\n",
        "\n",
        "This way we can see how data is handled when multiple reporters are used."
      ]
    },
    {
      "cell_type": "code",
      "execution_count": null,
      "metadata": {
        "id": "loeqziOrfX2o"
      },
      "outputs": [],
      "source": [
        "def compute_gini(model):\n",
        "    agent_wealths = [agent.wealth for agent in model.schedule.agents]\n",
        "    x = sorted(agent_wealths)\n",
        "    N = model.num_agents\n",
        "    B = sum(xi * (N - i) for i, xi in enumerate(x)) / (N * sum(x))\n",
        "    return 1 + (1 / N) - 2 * B\n",
        "\n",
        "\n",
        "class MoneyModel(mesa.Model):\n",
        "    \"\"\"A model with some number of agents.\"\"\"\n",
        "\n",
        "    def __init__(self, N, width, height):\n",
        "        super().__init__()\n",
        "        self.num_agents = N\n",
        "        self.grid = mesa.space.MultiGrid(width, height, True)\n",
        "        self.schedule = mesa.time.RandomActivation(self)\n",
        "        self.running = True\n",
        "\n",
        "        # Create agents\n",
        "        for i in range(self.num_agents):\n",
        "            a = MoneyAgent(i, self)\n",
        "            self.schedule.add(a)\n",
        "            # Add the agent to a random grid cell\n",
        "            x = self.random.randrange(self.grid.width)\n",
        "            y = self.random.randrange(self.grid.height)\n",
        "            self.grid.place_agent(a, (x, y))\n",
        "\n",
        "        self.datacollector = mesa.DataCollector(\n",
        "            model_reporters={\"Gini\": compute_gini},\n",
        "            agent_reporters={\"Wealth\": \"wealth\", \"Steps_not_given\": \"steps_not_given\"},\n",
        "        )\n",
        "\n",
        "    def step(self):\n",
        "        self.datacollector.collect(self)\n",
        "        self.schedule.step()\n",
        "\n",
        "\n",
        "class MoneyAgent(mesa.Agent):\n",
        "    \"\"\"An agent with fixed initial wealth.\"\"\"\n",
        "\n",
        "    def __init__(self, unique_id, model):\n",
        "        super().__init__(unique_id, model)\n",
        "        self.wealth = 1\n",
        "        self.steps_not_given = 0\n",
        "\n",
        "    def move(self):\n",
        "        possible_steps = self.model.grid.get_neighborhood(\n",
        "            self.pos, moore=True, include_center=False\n",
        "        )\n",
        "        new_position = self.random.choice(possible_steps)\n",
        "        self.model.grid.move_agent(self, new_position)\n",
        "\n",
        "    def give_money(self):\n",
        "        cellmates = self.model.grid.get_cell_list_contents([self.pos])\n",
        "        if len(cellmates) > 1:\n",
        "            other = self.random.choice(cellmates)\n",
        "            other.wealth += 1\n",
        "            self.wealth -= 1\n",
        "            self.steps_not_given = 0\n",
        "        else:\n",
        "            self.steps_not_given += 1\n",
        "\n",
        "    def step(self):\n",
        "        self.move()\n",
        "        if self.wealth > 0:\n",
        "            self.give_money()\n",
        "        else:\n",
        "            self.steps_not_given += 1"
      ]
    },
    {
      "cell_type": "markdown",
      "metadata": {
        "id": "uOl6IlnyfX2o"
      },
      "source": [
        "#### Batch run\n",
        "\n",
        "We call `batch_run` with the following arguments:\n",
        "\n",
        "* `model_cls`\n",
        "  The model class that is used for the batch run.\n",
        "* `parameters`\n",
        "  A dictionary containing all the parameters of the model class and desired values to use for the batch run as key-value pairs. Each value can either be fixed ( e.g. `{\"height\": 10, \"width\": 10}`) or an iterable (e.g. `{\"N\": range(10, 500, 10)}`). `batch_run` will then generate all possible parameter combinations based on this dictionary and run the model `iterations` times for each combination.\n",
        "* `number_processes`\n",
        "  If not specified, defaults to 1. Set it to `None` to use all the available processors.\n",
        "  Note: Multiprocessing does make debugging challenging. If your parameter sweeps are resulting in unexpected errors set `number_processes=1`.\n",
        "* `iterations`\n",
        "  The number of iterations to run each parameter combination for. Optional. If not specified, defaults to 1.\n",
        "* `data_collection_period`\n",
        "  The length of the period (number of steps) after which the model and agent reporters collect data. Optional. If not specified, defaults to -1, i.e. only at the end of each episode.\n",
        "* `max_steps`\n",
        "  The maximum number of time steps after which the model halts. An episode does either end when `self.running` of the model class is set to `False` or when `model.schedule.steps == max_steps` is reached. Optional. If not specified, defaults to 1000.\n",
        "* `display_progress`\n",
        "  Display the batch run progress. Optional. If not specified, defaults to `True`."
      ]
    },
    {
      "cell_type": "markdown",
      "metadata": {
        "id": "_t9t7PnffX2p"
      },
      "source": [
        "In the following example, we hold the height and width fixed, and vary the number of agents. We tell the batch runner to run 5 instantiations of the model with each number of agents, and to run each for 100 steps.\n",
        "\n",
        "We want to keep track of\n",
        "\n",
        "1. the Gini coefficient value at each time step, and\n",
        "2. the individual agent's wealth development and steps without giving money.\n",
        "\n",
        "**Important:** Since for the latter changes at each time step might be interesting, we set `data_collection_period=1`. By default, it only collects data at the end of each episode.\n",
        "\n",
        "Note: The total number of runs is 245 (= 49 different populations * 5 iterations per population). However, the resulting list of dictionaries will be of length 6186250 (= 250 average agents per population * 49 different populations * 5 iterations per population * 101 steps per iteration)."
      ]
    },
    {
      "cell_type": "markdown",
      "metadata": {
        "id": "Jgn35F2ofX2p"
      },
      "source": [
        "**Note for Windows OS users:** If you are running this tutorial in Jupyter, make sure that you set `number_processes = 1` (single process). If `number_processes` is greater than 1, it is less straightforward to set up. You can read [Mesa's how-to guide](https://github.com/projectmesa/mesa/blob/main/docs/howto.md), in 'Using multi-process `batch_run` on Windows' section for how to do it."
      ]
    },
    {
      "cell_type": "code",
      "execution_count": null,
      "metadata": {
        "id": "H7dxG03FfX2p"
      },
      "outputs": [],
      "source": [
        "params = {\"width\": 10, \"height\": 10, \"N\": range(5, 100, 5)}\n",
        "\n",
        "results = mesa.batch_run(\n",
        "    MoneyModel,\n",
        "    parameters=params,\n",
        "    iterations=7,\n",
        "    max_steps=100,\n",
        "    number_processes=1,\n",
        "    data_collection_period=1,\n",
        "    display_progress=True,\n",
        ")"
      ]
    },
    {
      "cell_type": "markdown",
      "metadata": {
        "id": "QHfx33dbfX2p"
      },
      "source": [
        "To further analyze the return of the `batch_run` function, we convert the list of dictionaries to a Pandas DataFrame and print its keys."
      ]
    },
    {
      "cell_type": "code",
      "execution_count": null,
      "metadata": {
        "id": "omFG8yrSfX2p"
      },
      "outputs": [],
      "source": [
        "results_df = pd.DataFrame(results)\n",
        "print(results_df.keys())"
      ]
    },
    {
      "cell_type": "markdown",
      "metadata": {
        "id": "Fi-eEwS1fX2p"
      },
      "source": [
        "First, we want to take a closer look at how the Gini coefficient at the end of each episode changes as we increase the size of the population. For this, we filter our results to only contain the data of one agent (the Gini coefficient will be the same for the entire population at any time) at the 100th step of each episode and then scatter-plot the values for the Gini coefficient over the the number of agents. Notice there are five values for each population size since we set `iterations=5` when calling the batch run."
      ]
    },
    {
      "cell_type": "code",
      "execution_count": null,
      "metadata": {
        "id": "hPJdstzbfX2p"
      },
      "outputs": [],
      "source": [
        "# Filter the results to only contain the data of one agent (the Gini coefficient will be the same for the entire population at any time) at the 100th step of each episode\n",
        "results_filtered = results_df[(results_df.AgentID == 0) & (results_df.Step == 100)]\n",
        "results_filtered[[\"iteration\", \"N\", \"Gini\"]].reset_index(\n",
        "    drop=True\n",
        ").head()  # Create a scatter plot\n",
        "g = sns.scatterplot(data=results_filtered, x=\"N\", y=\"Gini\")\n",
        "g.set(\n",
        "    xlabel=\"Number of agents\",\n",
        "    ylabel=\"Gini coefficient\",\n",
        "    title=\"Gini coefficient vs. number of agents\",\n",
        ");"
      ]
    },
    {
      "cell_type": "markdown",
      "source": [
        "We can create different kinds of plot from this filtered DataFrame. For example, a point plot with error bars."
      ],
      "metadata": {
        "collapsed": false,
        "id": "tqDOA3X6fX2p"
      }
    },
    {
      "cell_type": "code",
      "outputs": [],
      "source": [
        "# Create a point plot with error bars\n",
        "g = sns.pointplot(data=results_filtered, x=\"N\", y=\"Gini\", linestyle='none')\n",
        "g.figure.set_size_inches(8, 4)\n",
        "g.set(\n",
        "    xlabel=\"Number of agents\",\n",
        "    ylabel=\"Gini coefficient\",\n",
        "    title=\"Gini coefficient vs. number of agents\",\n",
        ");"
      ],
      "metadata": {
        "id": "qDy1uF7KfX2p"
      },
      "execution_count": null
    },
    {
      "cell_type": "markdown",
      "metadata": {
        "id": "2alSF-9CfX2p"
      },
      "source": [
        "Second, we want to display the agent's wealth at each time step of one specific episode. To do this, we again filter our large data frame, this time with a fixed number of agents and only for a specific iteration of that population.\n",
        "To print the results, we convert the filtered data frame to a string specifying the desired columns to print.\n",
        "\n",
        "Pandas has built-in functions to convert to a lot of different data formats. For example, to display as a table in a Jupyter Notebook, we can use the `to_html()` function which takes the same arguments as `to_string()` (see commented lines)."
      ]
    },
    {
      "cell_type": "code",
      "execution_count": null,
      "metadata": {
        "id": "OAE7KbH5fX2p"
      },
      "outputs": [],
      "source": [
        "# First, we filter the results\n",
        "one_episode_wealth = results_df[(results_df.N == 10) & (results_df.iteration == 2)]\n",
        "# Then, print the columns of interest of the filtered data frame\n",
        "print(\n",
        "    one_episode_wealth.to_string(\n",
        "        index=False, columns=[\"Step\", \"AgentID\", \"Wealth\"], max_rows=10\n",
        "    )\n",
        ")\n",
        "# For a prettier display we can also convert the data frame to html, uncomment to test in a Jupyter Notebook\n",
        "# from IPython.display import display, HTML\n",
        "# display(HTML(one_episode_wealth.to_html(index=False, columns=['Step', 'AgentID', 'Wealth'], max_rows=25)))"
      ]
    },
    {
      "cell_type": "markdown",
      "metadata": {
        "id": "B0V9b-QZfX2p"
      },
      "source": [
        "Lastly, we want to take a look at the development of the Gini coefficient over the course of one iteration. Filtering and printing looks almost the same as above, only this time we choose a different episode."
      ]
    },
    {
      "cell_type": "code",
      "execution_count": null,
      "metadata": {
        "id": "joswdCbXfX2p"
      },
      "outputs": [],
      "source": [
        "results_one_episode = results_df[\n",
        "    (results_df.N == 10) & (results_df.iteration == 1) & (results_df.AgentID == 0)\n",
        "]\n",
        "print(results_one_episode.to_string(index=False, columns=[\"Step\", \"Gini\"], max_rows=10))"
      ]
    },
    {
      "cell_type": "markdown",
      "source": [
        "### Analyzing model reporters: Comparing 5 scenarios\n",
        "Other insights might be gathered when we compare the Gini coefficient of different scenarios. For example, we can compare the Gini coefficient of a population with 25 agents to the Gini coefficient of a population with 400 agents. While doing this, we increase the number of iterations to 25 to get a better estimate of the Gini coefficient for each population size and get usable error estimations."
      ],
      "metadata": {
        "collapsed": false,
        "id": "1tmSiFUlfX2p"
      }
    },
    {
      "cell_type": "code",
      "outputs": [],
      "source": [
        "params = {\"width\": 10, \"height\": 10, \"N\": [5, 10, 20, 40, 80]}\n",
        "\n",
        "results_5s = mesa.batch_run(\n",
        "    MoneyModel,\n",
        "    parameters=params,\n",
        "    iterations=100,\n",
        "    max_steps=120,\n",
        "    number_processes=1,\n",
        "    data_collection_period=1,  # Important, otherwise the datacollector will only collect data of the last time step\n",
        "    display_progress=True,\n",
        ")\n",
        "\n",
        "results_5s_df = pd.DataFrame(results_5s)"
      ],
      "metadata": {
        "id": "KnwU1om-fX2p"
      },
      "execution_count": null
    },
    {
      "cell_type": "code",
      "outputs": [],
      "source": [
        "# Again filter the results to only contain the data of one agent (the Gini coefficient will be the same for the entire population at any time)\n",
        "results_5s_df_filtered = results_5s_df[(results_5s_df.AgentID == 0)]\n",
        "results_5s_df_filtered.head(3)"
      ],
      "metadata": {
        "id": "7sgT07_PfX2p"
      },
      "execution_count": null
    },
    {
      "cell_type": "code",
      "outputs": [],
      "source": [
        "# Create a lineplot with error bars\n",
        "g = sns.lineplot(\n",
        "    data=results_5s_df,\n",
        "    x=\"Step\",\n",
        "    y=\"Gini\",\n",
        "    hue=\"N\",\n",
        "    errorbar=(\"ci\", 95),\n",
        "    palette=\"tab10\",\n",
        ")\n",
        "g.figure.set_size_inches(8, 4)\n",
        "plot_title = \"Gini coefficient for different population sizes\\n(mean over 100 runs, with 95% confidence interval)\"\n",
        "g.set(title=plot_title, ylabel=\"Gini coefficient\");"
      ],
      "metadata": {
        "id": "KMp-iNIcfX2p"
      },
      "execution_count": null
    },
    {
      "cell_type": "markdown",
      "source": [
        "In this case it looks like the Gini coefficient increases slower for smaller populations. This can be because of different things, either because the Gini coefficient is a measure of inequality and the smaller the population, the more likely it is that the agents are all in the same wealth class, or because there are less interactions between agents in smaller populations, which means that the wealth of an agent is less likely to change."
      ],
      "metadata": {
        "collapsed": false,
        "id": "lBAPFVbdfX2p"
      }
    },
    {
      "cell_type": "markdown",
      "source": [
        "### Analyzing agent reporters\n",
        "From the agents we collected the wealth and the number of consecutive rounds without a transaction. We can compare the 5 different population sizes by plotting the average number of consecutive rounds without a transaction for each population size.\n",
        "\n",
        "Note that we're aggregating multiple times here: First we take the average of all agents for each single replication. Then we plot the averages for all replications, with the error band showing the 95% confidence interval of that first average (over all agents). So this error band is representing the uncertainty of the mean value of the number of consecutive rounds without a transaction for each population size."
      ],
      "metadata": {
        "collapsed": false,
        "id": "c-YUa5NyfX2q"
      }
    },
    {
      "cell_type": "code",
      "outputs": [],
      "source": [
        "# Calculate the mean of the wealth and the number of consecutive rounds for all agents in each episode\n",
        "agg_results_df = (\n",
        "    results_5s_df.groupby([\"iteration\", \"N\", \"Step\"])\n",
        "    .agg({\"Wealth\": \"mean\", \"Steps_not_given\": \"mean\"})\n",
        "    .reset_index()\n",
        ")\n",
        "agg_results_df.head(3)"
      ],
      "metadata": {
        "id": "grHhfcuCfX2q"
      },
      "execution_count": null
    },
    {
      "cell_type": "code",
      "outputs": [],
      "source": [
        "# Create a line plot with error bars\n",
        "g = sns.lineplot(\n",
        "    data=agg_results_df, x=\"Step\", y=\"Steps_not_given\", hue=\"N\", palette=\"tab10\"\n",
        ")\n",
        "g.figure.set_size_inches(8, 4)\n",
        "g.set(\n",
        "    title=\"Average number of consecutive rounds without a transaction for different population sizes\\n(mean with 95% confidence interval)\",\n",
        "    ylabel=\"Consecutive rounds without a transaction\",\n",
        ");"
      ],
      "metadata": {
        "id": "zk5gphecfX2q"
      },
      "execution_count": null
    },
    {
      "cell_type": "markdown",
      "source": [
        "It can be clearly seen that the lower the number of agents, the higher the number of consecutive rounds without a transaction. This is because the agents have fewer interactions with each other and therefore the wealth of an agent is less likely to change."
      ],
      "metadata": {
        "collapsed": false,
        "id": "BPrMbQZsfX2q"
      }
    },
    {
      "cell_type": "markdown",
      "source": [
        "#### General steps for analyzing results\n",
        "\n",
        "Many other analysis are possible based on the policies, scenarios and uncertainties that you might be interested in. In general, you can follow these steps to do your own analysis:\n",
        "\n",
        "1. Determine which metrics you want to analyse. Add these as model and agent reporters to the datacollector of your model.\n",
        "2. Determine the input parameters you want to vary. Add these as parameters to the batch_run function, using ranges or lists to test different values.\n",
        "3. Determine the hyperparameters of the batch_run function. Define the number of iterations, the number of processes, the number of steps, the data collection period, etc.\n",
        "4. Run the batch_run function and save the results.\n",
        "5. Transform, filter and aggregate the results to get the data you want to analyze. Make sure it's in long format, so that each row represents a single value.\n",
        "6. Choose a plot type, what to plot on the x and y axis, which columns to use for the hue. Seaborn also has an amazing [Example Gallery](https://seaborn.pydata.org/examples/index.html).\n",
        "7. Plot the data and analyze the results."
      ],
      "metadata": {
        "collapsed": false,
        "id": "Eu4lFfPPfX2q"
      }
    },
    {
      "cell_type": "markdown",
      "metadata": {
        "id": "vGqWWczvfX2q"
      },
      "source": [
        "### Happy Modeling!\n",
        "\n",
        "This document is a work in progress.  If you see any errors, exclusions or have any problems please contact [us](https://github.com/projectmesa/mesa/issues)."
      ]
    },
    {
      "cell_type": "markdown",
      "metadata": {
        "id": "Pn0A7T52fX2q"
      },
      "source": [
        "[Comer2014] Comer, Kenneth W. “Who Goes First? An Examination of the Impact of Activation on Outcome Behavior in AgentBased Models.” George Mason University, 2014. http://mars.gmu.edu/bitstream/handle/1920/9070/Comer_gmu_0883E_10539.pdf\n",
        "\n",
        "[Dragulescu2002] Drăgulescu, Adrian A., and Victor M. Yakovenko. “Statistical Mechanics of Money, Income, and Wealth: A Short Survey.” arXiv Preprint Cond-mat/0211175, 2002. http://arxiv.org/abs/cond-mat/0211175."
      ]
    }
  ],
  "metadata": {
    "anaconda-cloud": {},
    "kernelspec": {
      "display_name": "Python 3 (ipykernel)",
      "language": "python",
      "name": "python3"
    },
    "language_info": {
      "codemirror_mode": {
        "name": "ipython",
        "version": 3
      },
      "file_extension": ".py",
      "mimetype": "text/x-python",
      "name": "python",
      "nbconvert_exporter": "python",
      "pygments_lexer": "ipython3",
      "version": "3.10.12"
    },
    "colab": {
      "provenance": []
    }
  },
  "nbformat": 4,
  "nbformat_minor": 0
}