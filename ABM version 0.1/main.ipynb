{
 "cells": [
  {
   "cell_type": "code",
   "execution_count": 3,
   "metadata": {},
   "outputs": [],
   "source": [
    "import mesa\n",
    "\n",
    "\n",
    "class MyAgent(mesa.Agent):\n",
    "    def __init__(self, name, model):\n",
    "        super().__init__(name, model)\n",
    "        self.name = name\n",
    "\n",
    "    def step(self):\n",
    "        print(\"{} activated\".format(self.name))\n",
    "        # Whatever else the agent does when activated\n",
    "\n",
    "\n",
    "class MyModel(mesa.Model):\n",
    "    def __init__(self, n_agents):\n",
    "        super().__init__()\n",
    "        self.schedule = mesa.time.RandomActivation(self)\n",
    "        self.grid = mesa.space.MultiGrid(10, 10, torus=True)\n",
    "        self.dc = mesa.DataCollector(model_reporters={\"agent_count\":\n",
    "                                                      lambda m: m.schedule.get_agent_count()},\n",
    "                                     agent_reporters={\"name\": lambda a: a.name})\n",
    "        for i in range(n_agents):\n",
    "            a = MyAgent(i, self)\n",
    "            self.schedule.add(a)\n",
    "            coords = (self.random.randrange(0, 10),\n",
    "                      self.random.randrange(0, 10))\n",
    "            self.grid.place_agent(a, coords)\n",
    "\n",
    "    def step(self):\n",
    "        self.schedule.step()\n",
    "        self.dc.collect(self)"
   ]
  },
  {
   "cell_type": "code",
   "execution_count": null,
   "metadata": {},
   "outputs": [],
   "source": [
    "model = MyModel(5)\n",
    "for t in range(10):\n",
    "    model.step()\n",
    "model_df = model.dc.get_model_vars_dataframe()\n",
    "agent_df = model.dc.get_agent_vars_dataframe()"
   ]
  },
  {
   "cell_type": "code",
   "execution_count": null,
   "metadata": {},
   "outputs": [],
   "source": [
    "model_df"
   ]
  },
  {
   "cell_type": "code",
   "execution_count": null,
   "metadata": {},
   "outputs": [],
   "source": [
    "agent_df"
   ]
  },
  {
   "cell_type": "code",
   "execution_count": 4,
   "metadata": {},
   "outputs": [
    {
     "data": {
      "application/vnd.jupyter.widget-view+json": {
       "model_id": "e8580536c275466cb2dde89aa5747695",
       "version_major": 2,
       "version_minor": 0
      },
      "text/plain": [
       "  0%|          | 0/19 [00:00<?, ?it/s]"
      ]
     },
     "metadata": {},
     "output_type": "display_data"
    },
    {
     "name": "stdout",
     "output_type": "stream",
     "text": [
      "0 activated\n",
      "0 activated\n",
      "0 activated\n",
      "0 activated\n",
      "0 activated\n",
      "0 activated\n",
      "0 activated\n",
      "0 activated\n",
      "0 activated\n",
      "0 activated\n",
      "0 activated\n"
     ]
    },
    {
     "ename": "AttributeError",
     "evalue": "'MyModel' object has no attribute 'datacollector'",
     "output_type": "error",
     "traceback": [
      "\u001b[1;31m---------------------------------------------------------------------------\u001b[0m",
      "\u001b[1;31mAttributeError\u001b[0m                            Traceback (most recent call last)",
      "Cell \u001b[1;32mIn[4], line 4\u001b[0m\n\u001b[0;32m      1\u001b[0m \u001b[38;5;28;01mimport\u001b[39;00m \u001b[38;5;21;01mmesa\u001b[39;00m\n\u001b[0;32m      3\u001b[0m parameters \u001b[38;5;241m=\u001b[39m {\u001b[38;5;124m\"\u001b[39m\u001b[38;5;124mn_agents\u001b[39m\u001b[38;5;124m\"\u001b[39m: \u001b[38;5;28mrange\u001b[39m(\u001b[38;5;241m1\u001b[39m, \u001b[38;5;241m20\u001b[39m)}\n\u001b[1;32m----> 4\u001b[0m \u001b[43mmesa\u001b[49m\u001b[38;5;241;43m.\u001b[39;49m\u001b[43mbatch_run\u001b[49m\u001b[43m(\u001b[49m\n\u001b[0;32m      5\u001b[0m \u001b[43m    \u001b[49m\u001b[43mMyModel\u001b[49m\u001b[43m,\u001b[49m\n\u001b[0;32m      6\u001b[0m \u001b[43m    \u001b[49m\u001b[43mparameters\u001b[49m\u001b[43m,\u001b[49m\n\u001b[0;32m      7\u001b[0m \u001b[43m    \u001b[49m\u001b[43mmax_steps\u001b[49m\u001b[38;5;241;43m=\u001b[39;49m\u001b[38;5;241;43m10\u001b[39;49m\u001b[43m,\u001b[49m\n\u001b[0;32m      8\u001b[0m \u001b[43m)\u001b[49m\n",
      "File \u001b[1;32mc:\\Users\\zehao\\miniconda3\\envs\\ABM\\Lib\\site-packages\\mesa\\batchrunner.py:66\u001b[0m, in \u001b[0;36mbatch_run\u001b[1;34m(model_cls, parameters, number_processes, iterations, data_collection_period, max_steps, display_progress)\u001b[0m\n\u001b[0;32m     64\u001b[0m \u001b[38;5;28;01mif\u001b[39;00m number_processes \u001b[38;5;241m==\u001b[39m \u001b[38;5;241m1\u001b[39m:\n\u001b[0;32m     65\u001b[0m     \u001b[38;5;28;01mfor\u001b[39;00m run \u001b[38;5;129;01min\u001b[39;00m runs_list:\n\u001b[1;32m---> 66\u001b[0m         data \u001b[38;5;241m=\u001b[39m \u001b[43mprocess_func\u001b[49m\u001b[43m(\u001b[49m\u001b[43mrun\u001b[49m\u001b[43m)\u001b[49m\n\u001b[0;32m     67\u001b[0m         results\u001b[38;5;241m.\u001b[39mextend(data)\n\u001b[0;32m     68\u001b[0m         pbar\u001b[38;5;241m.\u001b[39mupdate()\n",
      "File \u001b[1;32mc:\\Users\\zehao\\miniconda3\\envs\\ABM\\Lib\\site-packages\\mesa\\batchrunner.py:145\u001b[0m, in \u001b[0;36m_model_run_func\u001b[1;34m(model_cls, run, max_steps, data_collection_period)\u001b[0m\n\u001b[0;32m    142\u001b[0m     steps\u001b[38;5;241m.\u001b[39mappend(model\u001b[38;5;241m.\u001b[39mschedule\u001b[38;5;241m.\u001b[39msteps \u001b[38;5;241m-\u001b[39m \u001b[38;5;241m1\u001b[39m)\n\u001b[0;32m    144\u001b[0m \u001b[38;5;28;01mfor\u001b[39;00m step \u001b[38;5;129;01min\u001b[39;00m steps:\n\u001b[1;32m--> 145\u001b[0m     model_data, all_agents_data \u001b[38;5;241m=\u001b[39m \u001b[43m_collect_data\u001b[49m\u001b[43m(\u001b[49m\u001b[43mmodel\u001b[49m\u001b[43m,\u001b[49m\u001b[43m \u001b[49m\u001b[43mstep\u001b[49m\u001b[43m)\u001b[49m\n\u001b[0;32m    147\u001b[0m     \u001b[38;5;66;03m# If there are agent_reporters, then create an entry for each agent\u001b[39;00m\n\u001b[0;32m    148\u001b[0m     \u001b[38;5;28;01mif\u001b[39;00m all_agents_data:\n",
      "File \u001b[1;32mc:\\Users\\zehao\\miniconda3\\envs\\ABM\\Lib\\site-packages\\mesa\\batchrunner.py:181\u001b[0m, in \u001b[0;36m_collect_data\u001b[1;34m(model, step)\u001b[0m\n\u001b[0;32m    176\u001b[0m \u001b[38;5;28;01mdef\u001b[39;00m \u001b[38;5;21m_collect_data\u001b[39m(\n\u001b[0;32m    177\u001b[0m     model: Model,\n\u001b[0;32m    178\u001b[0m     step: \u001b[38;5;28mint\u001b[39m,\n\u001b[0;32m    179\u001b[0m ) \u001b[38;5;241m-\u001b[39m\u001b[38;5;241m>\u001b[39m \u001b[38;5;28mtuple\u001b[39m[\u001b[38;5;28mdict\u001b[39m[\u001b[38;5;28mstr\u001b[39m, Any], \u001b[38;5;28mlist\u001b[39m[\u001b[38;5;28mdict\u001b[39m[\u001b[38;5;28mstr\u001b[39m, Any]]]:\n\u001b[0;32m    180\u001b[0m \u001b[38;5;250m    \u001b[39m\u001b[38;5;124;03m\"\"\"Collect model and agent data from a model using mesas datacollector.\"\"\"\u001b[39;00m\n\u001b[1;32m--> 181\u001b[0m     dc \u001b[38;5;241m=\u001b[39m \u001b[43mmodel\u001b[49m\u001b[38;5;241;43m.\u001b[39;49m\u001b[43mdatacollector\u001b[49m\n\u001b[0;32m    183\u001b[0m     model_data \u001b[38;5;241m=\u001b[39m {param: values[step] \u001b[38;5;28;01mfor\u001b[39;00m param, values \u001b[38;5;129;01min\u001b[39;00m dc\u001b[38;5;241m.\u001b[39mmodel_vars\u001b[38;5;241m.\u001b[39mitems()}\n\u001b[0;32m    185\u001b[0m     all_agents_data \u001b[38;5;241m=\u001b[39m []\n",
      "\u001b[1;31mAttributeError\u001b[0m: 'MyModel' object has no attribute 'datacollector'"
     ]
    }
   ],
   "source": [
    "import mesa\n",
    "\n",
    "parameters = {\"n_agents\": range(1, 20)}\n",
    "mesa.batch_run(\n",
    "    MyModel,\n",
    "    parameters,\n",
    "    max_steps=10,\n",
    ")"
   ]
  },
  {
   "cell_type": "code",
   "execution_count": null,
   "metadata": {},
   "outputs": [],
   "source": []
  }
 ],
 "metadata": {
  "kernelspec": {
   "display_name": "ABM",
   "language": "python",
   "name": "python3"
  },
  "language_info": {
   "codemirror_mode": {
    "name": "ipython",
    "version": 3
   },
   "file_extension": ".py",
   "mimetype": "text/x-python",
   "name": "python",
   "nbconvert_exporter": "python",
   "pygments_lexer": "ipython3",
   "version": "3.11.9"
  }
 },
 "nbformat": 4,
 "nbformat_minor": 2
}
